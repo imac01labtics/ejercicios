{
 "cells": [
  {
   "cell_type": "markdown",
   "metadata": {},
   "source": [
    "## 10.- Se tiene la palabra MURCIELAGO. Si no se permiten repeticiones al usar las letras que la forman, determina:"
   ]
  },
  {
   "cell_type": "markdown",
   "metadata": {},
   "source": [
    "- El numero de palabras que puedes crear. \n",
    "MURCIELAGO = 10 letras (elementos)\n",
    "\n",
    "10! = 10 x 9 x 8 x 7 x 6 x 5 x 4 x 3 x 2 x 1 = 3,628,800\n",
    "\n",
    "el numero de palabras que se pueden crear son **3,628,800**"
   ]
  },
  {
   "cell_type": "code",
   "execution_count": 2,
   "metadata": {},
   "outputs": [
    {
     "name": "stdout",
     "output_type": "stream",
     "text": [
      "Número de palabras diferentes que se pueden crear: 3628800\n"
     ]
    }
   ],
   "source": [
    "from math import factorial\n",
    "\n",
    "# Palabra original\n",
    "palabra_original = \"MURCIELAGO\"\n",
    "\n",
    "# Calculamos el número de palabras diferentes\n",
    "num_palabras_diferentes = factorial(len(palabra_original))\n",
    "\n",
    "print(\"Número de palabras diferentes que se pueden crear:\", num_palabras_diferentes)\n"
   ]
  },
  {
   "cell_type": "markdown",
   "metadata": {},
   "source": [
    "- El número de palabras con 5 letras. \n",
    "\n",
    "10 N 5 = 10!/5!(10-5)! = 10x9x8x7x6/5x4x3x2x1 = 252\n",
    "\n",
    "Despues de las 5 agarradas se puede permutar 5! ya que son diferentes numeros de permutaciones \n",
    "\n",
    "5! = 5 x 4 x 3 x 2 x 1 = 120\n",
    "\n",
    "se multiplica el numero de seleccionar las letras por el numero de formas de permutarlas \n",
    "\n",
    "252 x 120 = 30240\n",
    "\n",
    "el numero de palabras diferentes con 5 letras exactamente son **30240**"
   ]
  },
  {
   "cell_type": "code",
   "execution_count": 3,
   "metadata": {},
   "outputs": [
    {
     "name": "stdout",
     "output_type": "stream",
     "text": [
      "Número de palabras con 5 letras: 30240\n"
     ]
    }
   ],
   "source": [
    "from itertools import combinations, permutations\n",
    "from math import factorial\n",
    "\n",
    "# Definimos la palabra original y las letras disponibles\n",
    "palabra_original = \"MURCIELAGO\"\n",
    "letras_disponibles = list(palabra_original)\n",
    "\n",
    "# Seleccionamos 5 letras de la palabra original\n",
    "combinaciones = combinations(letras_disponibles, 5)\n",
    "\n",
    "# Inicializamos el contador de palabras\n",
    "num_palabras = 0\n",
    "\n",
    "# Iteramos sobre cada combinación de 5 letras\n",
    "for combo in combinaciones:\n",
    "    # Generamos las permutaciones de la combinación actual\n",
    "    permutaciones_combo = permutations(combo)\n",
    "    # Contamos cuántas permutaciones hay y las sumamos al contador\n",
    "    num_palabras += factorial(5)  # Ya que siempre son 5 letras en cada permutación\n",
    "\n",
    "print(\"Número de palabras con 5 letras:\", num_palabras)\n"
   ]
  },
  {
   "cell_type": "markdown",
   "metadata": {},
   "source": [
    "- La probabilidad de que una palabra de 5 letras termine en vocal."
   ]
  },
  {
   "cell_type": "code",
   "execution_count": 5,
   "metadata": {},
   "outputs": [
    {
     "name": "stdout",
     "output_type": "stream",
     "text": [
      "Número total de palabras de 5 letras: 30240\n",
      "Número de palabras de 5 letras que terminan en vocal: 60\n",
      "Probabilidad de que una palabra de 5 letras termine en vocal: 1/504\n"
     ]
    }
   ],
   "source": [
    "from math import factorial\n",
    "from fractions import Fraction\n",
    "\n",
    "# Número total de palabras de 5 letras sin repetición\n",
    "total_palabras = factorial(10) // factorial(10 - 5)  # 10 letras en total, elegimos 5\n",
    "\n",
    "# Contamos las palabras de 5 letras que terminan en vocal\n",
    "num_vocales = 4  # U, E, A, O\n",
    "num_consonantes = 6  # M, R, C, I, L, G\n",
    "\n",
    "# Número de combinaciones de 4 consonantes de las 6 disponibles\n",
    "combinaciones_consonantes = factorial(num_consonantes) // (factorial(num_consonantes - 4) * factorial(4))\n",
    "\n",
    "# Número total de palabras que terminan en vocal\n",
    "palabras_terminan_en_vocal = combinaciones_consonantes * num_vocales\n",
    "\n",
    "# Calculamos la probabilidad como una fracción\n",
    "probabilidad_fraccion = Fraction(palabras_terminan_en_vocal, total_palabras)\n",
    "\n",
    "print(\"Número total de palabras de 5 letras:\", total_palabras)\n",
    "print(\"Número de palabras de 5 letras que terminan en vocal:\", palabras_terminan_en_vocal)\n",
    "print(\"Probabilidad de que una palabra de 5 letras termine en vocal:\", probabilidad_fraccion)"
   ]
  }
 ],
 "metadata": {
  "kernelspec": {
   "display_name": "Python 3",
   "language": "python",
   "name": "python3"
  },
  "language_info": {
   "codemirror_mode": {
    "name": "ipython",
    "version": 3
   },
   "file_extension": ".py",
   "mimetype": "text/x-python",
   "name": "python",
   "nbconvert_exporter": "python",
   "pygments_lexer": "ipython3",
   "version": "3.12.4"
  }
 },
 "nbformat": 4,
 "nbformat_minor": 2
}
