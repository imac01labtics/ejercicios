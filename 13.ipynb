{
 "cells": [
  {
   "cell_type": "code",
   "execution_count": 3,
   "id": "8fe19f6d-41d7-4db6-9704-800f8acf3b96",
   "metadata": {},
   "outputs": [
    {
     "name": "stdout",
     "output_type": "stream",
     "text": [
      "a) Total de maneras posibles de acomodar los libros: 40320\n",
      "b) Total de maneras posibles: 30240\n",
      "c) Total de maneras posibles: 20736\n",
      "\n",
      "Probabilidades:\n",
      "b) Probabilidad: 0.75\n",
      "c) Probabilidad: 0.5142857142857142\n"
     ]
    }
   ],
   "source": [
    "from math import factorial\n",
    "from itertools import permutations, combinations\n",
    "\n",
    "autores = [\n",
    "    \"Mario Vargas Llosa\", \"Alberto Ruy Sánchez\", \"Gabriel García Márquez\",\n",
    "    \"Günther Grass\", \"Patrick Süskind\", \"Heinrich Böll\",\n",
    "    \"Arturo Pérez-Reverte\", \"Camilo José Cela\"\n",
    "]\n",
    "\n",
    "# Agrupaciones de autores por nacionalidad\n",
    "autores_latinoamericanos = [\"Mario Vargas Llosa\", \"Alberto Ruy Sánchez\", \"Gabriel García Márquez\"]\n",
    "autores_alemanes = [\"Günther Grass\", \"Heinrich Böll\"]\n",
    "autores_espanoles = [\"Arturo Pérez-Reverte\", \"Camilo José Cela\"]\n",
    "\n",
    "n_total_autores = len(autores)\n",
    "\n",
    "# a) ¿De cuántas formas puede acomodar los libros sobre la repisa?\n",
    "formas_a = factorial(n_total_autores)\n",
    "print(\"a) Total de maneras posibles de acomodar los libros:\", formas_a)\n",
    "\n",
    "\n",
    "# b) ¿De cuántas maneras puede ordenarlos si quiere que los libros de autores latinoamericanos estén juntos?\n",
    "autores_latinoamericanos_juntos = autores_latinoamericanos + [\"BloqueLatinoamericanos\"]\n",
    "\n",
    "# Permutaciones con autores latinoamericanos juntos\n",
    "formas_b = factorial(n_total_autores - 1) * factorial(len(autores_latinoamericanos))\n",
    "print(\"b) Total de maneras posibles:\", formas_b)\n",
    "\n",
    "\n",
    "# c) ¿De cuántas formas puede acomodarlos, si los autores latinoamericanos deben estar juntos, \n",
    "#    así como los autores alemanes y los españoles también?\n",
    "autores_alemanes_juntos = autores_alemanes + [\"BloqueAlemanes\"]\n",
    "autores_espanoles_juntos = autores_espanoles + [\"BloqueEspanoles\"]\n",
    "\n",
    "autores_bloques = [\n",
    "    autores_latinoamericanos_juntos,\n",
    "    autores_alemanes_juntos,\n",
    "    autores_espanoles_juntos,\n",
    "    [autor for autor in autores if autor not in autores_latinoamericanos + autores_alemanes + autores_espanoles]\n",
    "]\n",
    "\n",
    "# Permutaciones de los bloques\n",
    "formas_c = factorial(len(autores_bloques))\n",
    "for bloque in autores_bloques:\n",
    "    formas_c *= factorial(len(bloque))\n",
    "\n",
    "print(\"c) Total de maneras posibles:\", formas_c)\n",
    "\n",
    "\n",
    "# Probabilidades\n",
    "probabilidad_b = formas_b / formas_a\n",
    "probabilidad_c = formas_c / formas_a\n",
    "\n",
    "print(\"\\nProbabilidades:\")\n",
    "print(\"b) Probabilidad:\", probabilidad_b)\n",
    "print(\"c) Probabilidad:\", probabilidad_c)\n"
   ]
  },
  {
   "cell_type": "code",
   "execution_count": null,
   "id": "b8b0903a-9985-4b04-b6f5-623a973c3eef",
   "metadata": {},
   "outputs": [],
   "source": []
  },
  {
   "cell_type": "code",
   "execution_count": null,
   "id": "b3f15472-70e3-457e-852f-beedbb3b8f77",
   "metadata": {},
   "outputs": [],
   "source": []
  },
  {
   "cell_type": "code",
   "execution_count": null,
   "id": "1b87b329-9db0-4960-957d-c87861ec0765",
   "metadata": {},
   "outputs": [],
   "source": []
  },
  {
   "cell_type": "code",
   "execution_count": null,
   "id": "7a0b00fe-5400-44fa-9630-6e8b890f01cf",
   "metadata": {},
   "outputs": [],
   "source": []
  },
  {
   "cell_type": "code",
   "execution_count": null,
   "id": "78e43b93-1faa-41f5-8922-0385f77fa8a1",
   "metadata": {},
   "outputs": [],
   "source": []
  }
 ],
 "metadata": {
  "kernelspec": {
   "display_name": "Python 3 (ipykernel)",
   "language": "python",
   "name": "python3"
  },
  "language_info": {
   "codemirror_mode": {
    "name": "ipython",
    "version": 3
   },
   "file_extension": ".py",
   "mimetype": "text/x-python",
   "name": "python",
   "nbconvert_exporter": "python",
   "pygments_lexer": "ipython3",
   "version": "3.12.4"
  }
 },
 "nbformat": 4,
 "nbformat_minor": 5
}
