{
 "cells": [
  {
   "cell_type": "markdown",
   "id": "99f61457-2092-4450-b8f5-8f9ab00c1455",
   "metadata": {},
   "source": [
    "# 11. Parque vehicular. \n",
    "La Ciudad de México tiene placas de automóviles con tres números seguidos\n",
    "por tres letras, es decir, son placas del tipo 999-AAA. Sin embargo, no pueden empezar con 0\n",
    "(cero) ni se utilizan las letras I, O, Q y Ñ.  \n",
    "a) ¿Cuántas placas diferentes son posibles? 9,583,200  \n",
    "b) ¿Cuántas placas diferentes terminan en vocal? 1,306,800  \n",
    "c) ¿Cuál es la probabilidad de que una placa, elegida al azar, sea impar? 50%  "
   ]
  },
  {
   "cell_type": "markdown",
   "id": "4c5c0297-23d3-4c8a-a44d-bdd2301984ab",
   "metadata": {},
   "source": [
    "### a) ¿Cuántas placas diferentes son posibles? 9,583,200"
   ]
  },
  {
   "cell_type": "code",
   "execution_count": 8,
   "id": "ab23e9a1-6d39-4e07-bc58-dba70f8dfe87",
   "metadata": {},
   "outputs": [
    {
     "name": "stdout",
     "output_type": "stream",
     "text": [
      "a) ¿Cuántas placas diferentes son posibles? 10950300\n"
     ]
    }
   ],
   "source": [
    "# a) ¿Cuántas placas diferentes son posibles? 9,583,200\n",
    "num, letra = 9 * 10 * 10, 23 * 23 * 23\n",
    "res = num * letra\n",
    "print(\"a) ¿Cuántas placas diferentes son posibles?\", res)"
   ]
  },
  {
   "cell_type": "markdown",
   "id": "b4987eba-9b85-430a-81d9-2b943a53c49c",
   "metadata": {},
   "source": [
    "### b) ¿Cuántas placas diferentes terminan en vocal? 1,306,800"
   ]
  },
  {
   "cell_type": "code",
   "execution_count": 10,
   "id": "7bad1b20-0dc1-4a00-8627-d9c90f007893",
   "metadata": {},
   "outputs": [
    {
     "name": "stdout",
     "output_type": "stream",
     "text": [
      "b) ¿Cuántas placas diferentes terminan en vocal? 1428300\n"
     ]
    }
   ],
   "source": [
    "# b) ¿Cuántas placas diferentes terminan en vocal? 1,306,800\n",
    "num, letra = 900, 23 * 23 * 3\n",
    "result = num * letra\n",
    "print(\"b) ¿Cuántas placas diferentes terminan en vocal?\", result)"
   ]
  },
  {
   "cell_type": "markdown",
   "id": "e925c6e7-d65e-46bd-b2f0-f546361cbc97",
   "metadata": {},
   "source": [
    "### c) ¿Cuál es la probabilidad de que una placa, elegida al azar, sea impar? 50%"
   ]
  },
  {
   "cell_type": "code",
   "execution_count": 9,
   "id": "6b865774-4e00-4167-9a0f-d67bdfe7c048",
   "metadata": {},
   "outputs": [
    {
     "name": "stdout",
     "output_type": "stream",
     "text": [
      "c) ¿Cuál es la probabilidad de que una placa, elegida al azar, sea impar? 0.5\n"
     ]
    }
   ],
   "source": [
    "# c) ¿Cuál es la probabilidad de que una placa, elegida al azar, sea impar? 50%\n",
    "num, letra = 900, 12167\n",
    "num1 = 9 * 10 * 5\n",
    "res = num * letra\n",
    "result = num1 * letra\n",
    "p = result / res\n",
    "print(\"c) ¿Cuál es la probabilidad de que una placa, elegida al azar, sea impar?\", p)"
   ]
  }
 ],
 "metadata": {
  "kernelspec": {
   "display_name": "Python 3 (ipykernel)",
   "language": "python",
   "name": "python3"
  },
  "language_info": {
   "codemirror_mode": {
    "name": "ipython",
    "version": 3
   },
   "file_extension": ".py",
   "mimetype": "text/x-python",
   "name": "python",
   "nbconvert_exporter": "python",
   "pygments_lexer": "ipython3",
   "version": "3.12.4"
  }
 },
 "nbformat": 4,
 "nbformat_minor": 5
}
