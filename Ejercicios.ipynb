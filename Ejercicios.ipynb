{
 "cells": [
  {
   "cell_type": "markdown",
   "id": "02cbc77f-322c-47b9-b58c-b4e692939598",
   "metadata": {},
   "source": [
    "## Ejercicio 9"
   ]
  },
  {
   "cell_type": "markdown",
   "id": "4adfc216-0bcc-474f-9f94-589bf92192ac",
   "metadata": {},
   "source": [
    "Sólo para practicar. Los números telefónicos en la ciudad de Cuernavaca, Morelos, constan de siete dígitos.  \n",
    "a) ¿Cuántas líneas telefónicas pueden crearse en esa ciudad? Recuerda que no pueden comenzar con cero.  \n",
    "b) Si los tres primeros dígitos representan una zona de Cuernavaca,¿cuántaslíneastelefónicas pertenecen a la zona 326?"
   ]
  },
  {
   "cell_type": "code",
   "execution_count": 4,
   "id": "cb687fd5-047d-403f-996e-3cbbe5d85195",
   "metadata": {},
   "outputs": [
    {
     "name": "stdout",
     "output_type": "stream",
     "text": [
      "a) 1360800\n",
      "b) 3260000\n"
     ]
    }
   ],
   "source": [
    "def permutaciones(n, r):\n",
    "    return math.factorial(n) // math.factorial(n - r)\n",
    "    \n",
    "def combinaciones(n, r):\n",
    "    return math.factorial(n) // (math.factorial(r) * math.factorial(n - r))\n",
    "    \n",
    "import math\n",
    "\n",
    "##### a)\n",
    "ejeA = 9 * permutaciones(10, 6)\n",
    "print(\"a)\",ejeA)\n",
    "\n",
    "##### b)\n",
    "ejeB = 326 * 10**4\n",
    "print(\"b)\",ejeB)"
   ]
  },
  {
   "cell_type": "markdown",
   "id": "1d0c00d8-9569-401d-a86a-2fd8ae8a7273",
   "metadata": {},
   "source": [
    "## Ejercicio 10"
   ]
  },
  {
   "cell_type": "markdown",
   "id": "91123a05-713d-4f21-847d-18a93fdd08d0",
   "metadata": {},
   "source": [
    "Sólo para practicar. Se tiene la palabra MURCIÉLAGO. Si no se permiten repeticiones al usar las letras que la forman, determina:  \n",
    "a) El número de palabras que puedes crear.  \n",
    "b) El número de palabras con cinco letras.  \n",
    "c) La probabilidad de que una palabra de cinco letras termine en vocal."
   ]
  },
  {
   "cell_type": "code",
   "execution_count": 6,
   "id": "4d8d5991-f93d-4c6f-9da3-0a278a684065",
   "metadata": {},
   "outputs": [
    {
     "name": "stdout",
     "output_type": "stream",
     "text": [
      "a) 3628800\n",
      "b) 30240\n",
      "c) 1/504\n"
     ]
    }
   ],
   "source": [
    "def permutaciones(n, r):\n",
    "    return math.factorial(n) // math.factorial(n - r)\n",
    "    \n",
    "def combinaciones(n, r):\n",
    "    return math.factorial(n) // (math.factorial(r) * math.factorial(n - r))\n",
    "    \n",
    "import math\n",
    "n = len(\"MURCIÉLAGO\")\n",
    "##### a)\n",
    "ejeA = math.factorial(n)\n",
    "print(\"a)\",ejeA)\n",
    "\n",
    "##### b)\n",
    "ejeB = permutaciones(n, 5)\n",
    "print(\"b)\",ejeB)\n",
    "\n",
    "##### c)\n",
    "from math import factorial\n",
    "from fractions import Fraction\n",
    "\n",
    "total_palabras = factorial(10) // factorial(10 - 5)  # 10 letras en total, elegimos 5\n",
    "\n",
    "num_vocales = 4  # U, E, A, O\n",
    "num_consonantes = 6  # M, R, C, I, L, G\n",
    "combinaciones_consonantes = factorial(num_consonantes) // (factorial(num_consonantes - 4) * factorial(4))\n",
    "palabras_terminan_en_vocal = combinaciones_consonantes * num_vocales\n",
    "probabilidad_fraccion = Fraction(palabras_terminan_en_vocal, total_palabras)\n",
    "#print(\"Número total de palabras de 5 letras:\", total_palabras)\n",
    "#print(\"Número de palabras de 5 letras que terminan en vocal:\", palabras_terminan_en_vocal)\n",
    "print(\"c)\", probabilidad_fraccion)\n"
   ]
  },
  {
   "cell_type": "markdown",
   "id": "00a1c91e-4023-4ddc-a36f-f94adb7f5172",
   "metadata": {},
   "source": [
    "## Ejercicio 11"
   ]
  },
  {
   "cell_type": "markdown",
   "id": "30c5d92c-0e66-484c-99e5-1278fa10a6da",
   "metadata": {},
   "source": [
    "La Ciudad de México tiene placas de automóviles con tres números seguidos\n",
    "por tres letras, es decir, son placas del tipo 999-AAA. Sin embargo, no pueden empezar con 0\n",
    "(cero) ni se utilizan las letras I, O, Q y Ñ.  \n",
    "a) ¿Cuántas placas diferentes son posibles? 9,583,200  \n",
    "b) ¿Cuántas placas diferentes terminan en vocal? 1,306,800  \n",
    "c) ¿Cuál es la probabilidad de que una placa, elegida al azar, sea impar? 50%  "
   ]
  },
  {
   "cell_type": "code",
   "execution_count": null,
   "id": "404dd85e-9ca0-4dd1-9436-99dff5f55c9e",
   "metadata": {},
   "outputs": [],
   "source": [
    "# a) ¿Cuántas placas diferentes son posibles? 9,583,200\n",
    "num, letra = 9 * 10 * 10, 23 * 23 * 23\n",
    "res = num * letra\n",
    "print(\"a) ¿Cuántas placas diferentes son posibles?\", res)\n",
    "\n",
    "# b) ¿Cuántas placas diferentes terminan en vocal? 1,306,800\n",
    "num, letra = 900, 23 * 23 * 3\n",
    "result = num * letra\n",
    "print(\"b) ¿Cuántas placas diferentes terminan en vocal?\", result)\n",
    "\n",
    "# c) ¿Cuál es la probabilidad de que una placa, elegida al azar, sea impar? 50%\n",
    "num, letra = 900, 12167\n",
    "num1 = 9 * 10 * 5\n",
    "res = num * letra\n",
    "result = num1 * letra\n",
    "p = result / res\n",
    "print(\"c) ¿Cuál es la probabilidad de que una placa, elegida al azar, sea impar?\", p)"
   ]
  },
  {
   "cell_type": "markdown",
   "id": "777e45d7-af38-4d14-ad3b-051d1680d439",
   "metadata": {},
   "source": [
    "## Ejercicio 12"
   ]
  },
  {
   "cell_type": "code",
   "execution_count": null,
   "id": "b01b4371-3f7d-4ae8-8a06-55b54adb5065",
   "metadata": {},
   "outputs": [],
   "source": [
    "# Calculando el número total de maneras posibles de ordenar una hamburguesa\n",
    "total_formas = 2 ** 9  # 2 elevado a la potencia de 9 (ya que hay 9 ingredientes)\n",
    "print(\"Total de formas posibles:\", total_formas)\n",
    "\n",
    "# Comparación con la afirmación de la empresa\n",
    "afirmacion_empresa = 512\n",
    "\n",
    "if total_formas == afirmacion_empresa:\n",
    "    print(\"La afirmación de la empresa es correcta.\")\n",
    "else:\n",
    "    print(\"La afirmación de la empresa NO es correcta.\")"
   ]
  },
  {
   "cell_type": "markdown",
   "id": "4cbf16d0-2fd7-484f-91c0-646fcad3a9ed",
   "metadata": {},
   "source": [
    "## Ejercicio 13"
   ]
  },
  {
   "cell_type": "code",
   "execution_count": null,
   "id": "787a7102-9bb3-4ef8-a384-50dc5ab12bb0",
   "metadata": {},
   "outputs": [],
   "source": [
    "from math import factorial\n",
    "from itertools import permutations, combinations\n",
    "\n",
    "autores = [\n",
    "    \"Mario Vargas Llosa\", \"Alberto Ruy Sánchez\", \"Gabriel García Márquez\",\n",
    "    \"Günther Grass\", \"Patrick Süskind\", \"Heinrich Böll\",\n",
    "    \"Arturo Pérez-Reverte\", \"Camilo José Cela\"\n",
    "]\n",
    "\n",
    "# Agrupaciones de autores por nacionalidad\n",
    "autores_latinoamericanos = [\"Mario Vargas Llosa\", \"Alberto Ruy Sánchez\", \"Gabriel García Márquez\"]\n",
    "autores_alemanes = [\"Günther Grass\", \"Heinrich Böll\"]\n",
    "autores_espanoles = [\"Arturo Pérez-Reverte\", \"Camilo José Cela\"]\n",
    "\n",
    "n_total_autores = len(autores)\n",
    "\n",
    "# a) ¿De cuántas formas puede acomodar los libros sobre la repisa?\n",
    "formas_a = factorial(n_total_autores)\n",
    "print(\"a) Total de maneras posibles de acomodar los libros:\", formas_a)\n",
    "\n",
    "\n",
    "# b) ¿De cuántas maneras puede ordenarlos si quiere que los libros de autores latinoamericanos estén juntos?\n",
    "autores_latinoamericanos_juntos = autores_latinoamericanos + [\"BloqueLatinoamericanos\"]\n",
    "\n",
    "# Permutaciones con autores latinoamericanos juntos\n",
    "formas_b = factorial(n_total_autores - 1) * factorial(len(autores_latinoamericanos))\n",
    "print(\"b) Total de maneras posibles:\", formas_b)\n",
    "\n",
    "\n",
    "# c) ¿De cuántas formas puede acomodarlos, si los autores latinoamericanos deben estar juntos, \n",
    "#    así como los autores alemanes y los españoles también?\n",
    "autores_alemanes_juntos = autores_alemanes + [\"BloqueAlemanes\"]\n",
    "autores_espanoles_juntos = autores_espanoles + [\"BloqueEspanoles\"]\n",
    "\n",
    "autores_bloques = [\n",
    "    autores_latinoamericanos_juntos,\n",
    "    autores_alemanes_juntos,\n",
    "    autores_espanoles_juntos,\n",
    "    [autor for autor in autores if autor not in autores_latinoamericanos + autores_alemanes + autores_espanoles]\n",
    "]\n",
    "\n",
    "# Permutaciones de los bloques\n",
    "formas_c = factorial(len(autores_bloques))\n",
    "for bloque in autores_bloques:\n",
    "    formas_c *= factorial(len(bloque))\n",
    "\n",
    "print(\"c) Total de maneras posibles:\", formas_c)\n",
    "\n",
    "\n",
    "# Probabilidades\n",
    "probabilidad_b = formas_b / formas_a\n",
    "probabilidad_c = formas_c / formas_a\n",
    "\n",
    "print(\"\\nProbabilidades:\")\n",
    "print(\"b) Probabilidad:\", probabilidad_b)\n",
    "print(\"c) Probabilidad:\", probabilidad_c)\n"
   ]
  },
  {
   "cell_type": "markdown",
   "id": "e07e807c-0290-4294-b1b2-e500e5b2b190",
   "metadata": {},
   "source": [
    "## Ejercicio 14"
   ]
  },
  {
   "cell_type": "code",
   "execution_count": null,
   "id": "8076a65b-2829-4870-a2d6-0f281eea3118",
   "metadata": {},
   "outputs": [],
   "source": [
    "'''\n",
    "Finanzas. Se va a formar un portafolio de inversión de cuatro instrumentos financieros a partir\n",
    "de cinco de renta fija y seis de renta variable. ¿De cuántas maneras podría formarse el portafolio\n",
    "si:\n",
    "'''\n",
    "n = 11\n",
    "#a) No hay restricciones?\n",
    "\n",
    "# b) Debe haber dos instrumentos de renta fija y dos de renta variable?\n",
    "\n",
    "# c) No debe haber ningún instrumento de renta fija?\n",
    "\n",
    "# d) Debe haber tres instrumentos de renta fija?\n",
    "\n",
    "# e) Calcula las probabilidades para los incisos anteriores.\n",
    "\n",
    "# f) Investiga qué es un instrumento de renta fija y otro de renta variable.\n",
    "\n",
    "\n",
    "from itertools import permutations, combinations\n",
    "\n",
    "# Definir variables\n",
    "n_renta_fija = 5\n",
    "n_renta_variable = 6\n",
    "n_total = n_renta_fija + n_renta_variable\n",
    "\n",
    "# Función para calcular factorial (opcional, para probabilidades)\n",
    "def factorial(n):\n",
    "    if n == 0 or n == 1:\n",
    "        return 1\n",
    "    else:\n",
    "        return n * factorial(n - 1)\n",
    "\n",
    "# Función para calcular combinaciones C(n, k)\n",
    "def combinacion(n, k):\n",
    "    return factorial(n) // (factorial(k) * factorial(n - k))\n",
    "\n",
    "# Función para calcular permutaciones P(n, k)\n",
    "def permutacion(n, k):\n",
    "    return factorial(n) // factorial(n - k)\n",
    "\n",
    "# a) No hay restricciones\n",
    "total_formas_a = combinacion(n_total, 4)\n",
    "print(\"a) Total de maneras posibles:\", total_formas_a)\n",
    "\n",
    "# b) Debe haber dos instrumentos de renta fija y dos de renta variable\n",
    "formas_renta_fija = combinacion(n_renta_fija, 2)\n",
    "formas_renta_variable = combinacion(n_renta_variable, 2)\n",
    "total_formas_b = formas_renta_fija * formas_renta_variable\n",
    "print(\"b) Total de maneras posibles:\", total_formas_b)\n",
    "\n",
    "# c) No debe haber ningún instrumento de renta fija\n",
    "total_formas_c = combinacion(n_renta_variable, 4)\n",
    "print(\"c) Total de maneras posibles:\", total_formas_c)\n",
    "\n",
    "# d) Debe haber tres instrumentos de renta fija\n",
    "formas_renta_fija_d = combinacion(n_renta_fija, 3)\n",
    "formas_renta_variable_d = combinacion(n_renta_variable, 1)\n",
    "total_formas_d = formas_renta_fija_d * formas_renta_variable_d\n",
    "print(\"d) Total de maneras posibles:\", total_formas_d)\n",
    "\n",
    "# Probabilidades\n",
    "probabilidad_a = total_formas_a / combinacion(n_total, 4)\n",
    "probabilidad_b = total_formas_b / combinacion(n_total, 4)\n",
    "probabilidad_c = total_formas_c / combinacion(n_total, 4)\n",
    "probabilidad_d = total_formas_d / combinacion(n_total, 4)\n",
    "\n",
    "print(\"\\nProbabilidades:\")\n",
    "print(\"a) Probabilidad:\", probabilidad_a)\n",
    "print(\"b) Probabilidad:\", probabilidad_b)\n",
    "print(\"c) Probabilidad:\", probabilidad_c)\n",
    "print(\"d) Probabilidad:\", probabilidad_d)\n"
   ]
  },
  {
   "cell_type": "markdown",
   "id": "0824d640-c7db-4e3a-ab6e-885409e18fc5",
   "metadata": {},
   "source": [
    "## Ejercicio 15"
   ]
  },
  {
   "cell_type": "markdown",
   "id": "59477840-bf6e-422f-9dcc-d9f84d57867f",
   "metadata": {},
   "source": [
    "Futbol. Tres parejas (tres hombres y tres mujeres) compran boletos para ir a un partido de los Pumas. \n",
    "Cuando llegan al estadio de Ciudad Universitaria les surge la duda de cómo sentarse en la fila. \n",
    "¿De cuántas maneras pueden hacerlo si:  \n",
    "a) No hay restricciones?  \n",
    "b) Los hombres deben sentarse juntos?  \n",
    "c) Deben sentarse por parejas?  \n",
    "d) ¿Cuál es la probabilidad de cada uno de los eventos descritos en los incisos anteriores?  "
   ]
  },
  {
   "cell_type": "code",
   "execution_count": null,
   "id": "ec561c47-7141-4f79-88f9-5df1671377c8",
   "metadata": {},
   "outputs": [],
   "source": [
    "import math\n",
    "##### a)\n",
    "ejeA = math.factorial(6)\n",
    "print(\"a)\",ejeA)\n",
    "\n",
    "##### b)\n",
    "ejeB = math.factorial(4) * math.factorial(3)\n",
    "print(\"b)\",ejeB)\n",
    "\n",
    "##### c)\n",
    "ejeC = math.factorial(3) * 2\n",
    "print(\"c)\",ejeC)\n",
    "\n",
    "##### d)\n",
    "ejeDA = ejeA / math.factorial(6)\n",
    "ejeDB = ejeB / math.factorial(6)\n",
    "ejeDC = ejeC / math.factorial(6)\n",
    "print(\"d)\",ejeDA)\n",
    "print(\"d)\",ejeDB)\n",
    "print(\"d)\",ejeDC)"
   ]
  },
  {
   "cell_type": "markdown",
   "id": "03a0cf7c-0b7f-4f70-b51e-7156776040b9",
   "metadata": {},
   "source": [
    "## Ejercicio 16"
   ]
  },
  {
   "cell_type": "markdown",
   "id": "9c93b63e-9680-4c25-9ac0-b20c21476093",
   "metadata": {},
   "source": [
    "Trabajo en equipo. En un grupo de 25 alumnos hay 13 chicas y 12 chicos. Se desean formar equipos de trabajo para realizar una investigación:  \n",
    "a) ¿Cuántos equipos de cinco personas pueden formarse?  \n",
    "b) ¿Cuántos equipos pueden formarse si debe haber una chica?  \n",
    "c) ¿Cuántos equipos pueden formarse si debe haber dos chicas?  \n",
    "d) Determina las probabilidades correspondientes a los incisos anteriores.  "
   ]
  },
  {
   "cell_type": "code",
   "execution_count": null,
   "id": "f2b0592e-686f-45f2-a890-2fc142d3e2f2",
   "metadata": {},
   "outputs": [],
   "source": [
    "def permutaciones(n, r):\n",
    "    return math.factorial(n) // math.factorial(n - r)\n",
    "    \n",
    "def combinaciones(n, r):\n",
    "    return math.factorial(n) // (math.factorial(r) * math.factorial(n - r))\n",
    "\n",
    "    \n",
    "##### a)\n",
    "n = 25\n",
    "k = 5\n",
    "ejeA = combinaciones(n, k)\n",
    "print(\"a)\",ejeA)\n",
    "\n",
    "##### b)\n",
    "ejeB = combinaciones(13, 1) * combinaciones(12, 4)\n",
    "print(\"b)\",ejeB)\n",
    "\n",
    "##### c)\n",
    "ejeC = combinaciones(13, 2) * combinaciones(12, 3)\n",
    "print(\"c)\",ejeC)\n",
    "\n",
    "##### d)\n",
    "ejeDA = ejeA / ejeA\n",
    "ejeDB = ejeB / ejeA\n",
    "ejeDC = ejeC / ejeA\n",
    "print(\"d)\",ejeDA)\n",
    "print(\"d)\",ejeDB)\n",
    "print(\"d)\",ejeDC)"
   ]
  },
  {
   "cell_type": "markdown",
   "id": "f762ae9f-1ea8-4193-af9b-c419a84ccf54",
   "metadata": {},
   "source": [
    "## Ejercicio 17"
   ]
  },
  {
   "cell_type": "markdown",
   "id": "2f06106d-44ec-44af-8abf-6f95b8426684",
   "metadata": {},
   "source": [
    "Control de calidad. Se tiene una caja con 24 latas y se sabe que dos están contaminadas. Se van a seleccionar tres latas al azar para someterlas a una prueba de control de calidad, es decir, para medir los estándares de calidad de la empresa.  \n",
    "a) ¿Cuántas combinaciones de tres latas pueden hacerse?  \n",
    "b) ¿Cuál es la probabilidad de que se seleccione una lata contaminada para la prueba?  \n",
    "c) ¿Cuál es la probabilidad de que se seleccione al menos una lata contaminada para la prueba?  \n",
    "d) ¿Y la probabilidad de que no se elijan latas contaminadas para la prueba?  "
   ]
  },
  {
   "cell_type": "code",
   "execution_count": null,
   "id": "4b042d07-4157-4d2c-b31c-4669b61b58d8",
   "metadata": {},
   "outputs": [],
   "source": [
    "def permutaciones(n, r):\n",
    "    return math.factorial(n) // math.factorial(n - r)\n",
    "    \n",
    "def combinaciones(n, r):\n",
    "    return math.factorial(n) // (math.factorial(r) * math.factorial(n - r))\n",
    "\n",
    "    \n",
    "##### a)\n",
    "n = 24\n",
    "k = 3\n",
    "ejeA = combinaciones(n, k)\n",
    "print(\"a)\",ejeA)\n",
    "\n",
    "##### b)\n",
    "n = 24\n",
    "k = 3\n",
    "ejeB = combinaciones(22, 2) * combinaciones(2, 1)\n",
    "probB = ejeB / ejeA\n",
    "print(\"b)\",probB)\n",
    "\n",
    "\n",
    "##### c)\n",
    "n = 24\n",
    "k = 3\n",
    "ejeC = combinaciones(22, 1) * combinaciones(2, 2)\n",
    "probC = ejeC / ejeA\n",
    "print(\"d)\",probC)\n",
    "\n",
    "##### d)\n",
    "n = 24\n",
    "k = 3\n",
    "ejeC = combinaciones(22, 3) * combinaciones(2, 0)\n",
    "probC = ejeC / ejeA\n",
    "print(\"d)\",probC)"
   ]
  }
 ],
 "metadata": {
  "kernelspec": {
   "display_name": "Python 3 (ipykernel)",
   "language": "python",
   "name": "python3"
  },
  "language_info": {
   "codemirror_mode": {
    "name": "ipython",
    "version": 3
   },
   "file_extension": ".py",
   "mimetype": "text/x-python",
   "name": "python",
   "nbconvert_exporter": "python",
   "pygments_lexer": "ipython3",
   "version": "3.11.4"
  }
 },
 "nbformat": 4,
 "nbformat_minor": 5
}
