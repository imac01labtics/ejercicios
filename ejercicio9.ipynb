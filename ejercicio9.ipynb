{
 "cells": [
  {
   "cell_type": "markdown",
   "id": "55eec157-f21b-4bbc-ade5-a70a4f0c5e87",
   "metadata": {},
   "source": [
    "#### Los númerostelefónicos en laciudad de Cuernavaca,Morelos,constande siete dígitos.\n",
    "\n",
    "- a) ¿Cuántas líneas telefónicas pueden crearse en esa ciudad? Recuerda que no pueden comenzar con cero.\n",
    "- b) Si los tres primeros dígitos representan una zona de Cuernavaca,¿cuántas líneas telefónicas pertenecen a la zona 326?"
   ]
  },
  {
   "cell_type": "code",
   "execution_count": 1,
   "id": "e3310f16-40f1-40a8-8edf-c32bca9a2708",
   "metadata": {},
   "outputs": [
    {
     "name": "stdout",
     "output_type": "stream",
     "text": [
      "total de lineas: 9000000\n",
      "lineas: 3260000\n"
     ]
    }
   ],
   "source": [
    "# A) Líneas telefónicas.\n",
    "total_lineas = 9 * 10**6\n",
    "print(\"total de lineas:\",total_lineas)\n",
    "\n",
    "# B) Pertenecen a 326.\n",
    "zona = 326\n",
    "lineas_zona = zona* 10**4\n",
    "print(\"lineas:\",lineas_zona)"
   ]
  }
 ],
 "metadata": {
  "kernelspec": {
   "display_name": "Python 3 (ipykernel)",
   "language": "python",
   "name": "python3"
  },
  "language_info": {
   "codemirror_mode": {
    "name": "ipython",
    "version": 3
   },
   "file_extension": ".py",
   "mimetype": "text/x-python",
   "name": "python",
   "nbconvert_exporter": "python",
   "pygments_lexer": "ipython3",
   "version": "3.11.4"
  }
 },
 "nbformat": 4,
 "nbformat_minor": 5
}
