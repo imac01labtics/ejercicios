{
 "cells": [
  {
   "cell_type": "code",
   "execution_count": 1,
   "id": "bb244b6d-3b59-4f57-a32a-5ef905675666",
   "metadata": {},
   "outputs": [
    {
     "name": "stdout",
     "output_type": "stream",
     "text": [
      "Total de formas posibles: 512\n",
      "La afirmación de la empresa es correcta.\n"
     ]
    }
   ],
   "source": [
    "# Calculando el número total de maneras posibles de ordenar una hamburguesa\n",
    "total_formas = 2 ** 9  # 2 elevado a la potencia de 9 (ya que hay 9 ingredientes)\n",
    "print(\"Total de formas posibles:\", total_formas)\n",
    "\n",
    "# Comparación con la afirmación de la empresa\n",
    "afirmacion_empresa = 512\n",
    "\n",
    "if total_formas == afirmacion_empresa:\n",
    "    print(\"La afirmación de la empresa es correcta.\")\n",
    "else:\n",
    "    print(\"La afirmación de la empresa NO es correcta.\")\n"
   ]
  }
 ],
 "metadata": {
  "kernelspec": {
   "display_name": "Python 3 (ipykernel)",
   "language": "python",
   "name": "python3"
  },
  "language_info": {
   "codemirror_mode": {
    "name": "ipython",
    "version": 3
   },
   "file_extension": ".py",
   "mimetype": "text/x-python",
   "name": "python",
   "nbconvert_exporter": "python",
   "pygments_lexer": "ipython3",
   "version": "3.12.4"
  }
 },
 "nbformat": 4,
 "nbformat_minor": 5
}
