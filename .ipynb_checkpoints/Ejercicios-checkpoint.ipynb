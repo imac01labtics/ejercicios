{
 "cells": [
  {
   "cell_type": "code",
   "execution_count": 1,
   "id": "e63abc20-de2b-456d-a835-ee8824d476f0",
   "metadata": {},
   "outputs": [],
   "source": [
    "from math import comb, perm, factorial"
   ]
  },
  {
   "cell_type": "markdown",
   "id": "f606a637-247e-406a-afec-95acb3496d82",
   "metadata": {},
   "source": [
    "## Ejercicio 9 \n",
    "*Sólo para practicar.* Los números telefónicos en la ciudad de Cuernavaca, Morelos, constan de siete dígitos.  \n",
    "**a)** ¿Cuántas líneas telefónicas pueden crearse en esa ciudad? Recuerda que no pueden comenzar con 0  \n",
    "**b)** Si los tres primeros dígitos representan una zona de Cuernavaca, ¿cuántas líneas telefónicas pertenecen a la zona 326?"
   ]
  },
  {
   "cell_type": "code",
   "execution_count": 2,
   "id": "e947eaf8-d2d9-4f6b-aa01-29dae168bf22",
   "metadata": {},
   "outputs": [
    {
     "name": "stdout",
     "output_type": "stream",
     "text": [
      "a) 9000000\n",
      "b) 10000\n"
     ]
    }
   ],
   "source": [
    "#### a) #### \n",
    "#lineasPosibles =  9 * 10 * 10 * 10 * 10 * 10 * 10\n",
    "lineasPosibles =  9 * (10 ** 6)\n",
    "print(\"a)\",lineasPosibles)\n",
    "\n",
    "#### b) ####\n",
    "#lineasPosibles362 =  1 * 10 * 10 * 10 * 10\n",
    "lineasPosibles362 =  1 * (10 ** 4)\n",
    "print(\"b)\", lineasPosibles362)"
   ]
  },
  {
   "cell_type": "markdown",
   "id": "bb09b386-9a53-4b96-8658-f7ead1ee1e62",
   "metadata": {},
   "source": [
    "## Ejercicio 10\n",
    "*Sólo para practicar.* Se tiene la palabra MURCIÉLAGO. Si no se permiten repeticiones al usar las letras que la forman, determina:  \n",
    "**a)** El número de palabras que puedes crear.  \n",
    "**b)** El número de palabras con cinco letras.  \n",
    "**c)** La probabilidad de que una palabra de cinco letras termine en vocal."
   ]
  },
  {
   "cell_type": "code",
   "execution_count": 3,
   "id": "90bb8085-d13b-4aae-802c-0da783a4342a",
   "metadata": {},
   "outputs": [
    {
     "name": "stdout",
     "output_type": "stream",
     "text": [
      "a) 3628800\n",
      "b) 30240\n",
      "c) 0.004166666666666667\n"
     ]
    }
   ],
   "source": [
    "numeroLetras = len('MURCIÉLAGO')\n",
    "vocales = 5\n",
    "\n",
    "#### a) #### \n",
    "numeroPalabras = factorial(numeroLetras)\n",
    "print(\"a)\", numeroPalabras)\n",
    "\n",
    "#### b) #### \n",
    "numeroPalabras5Letras = perm(numeroLetras, 5)\n",
    "print(\"b)\", numeroPalabras5Letras)\n",
    "\n",
    "#### c) #### \n",
    "numeroPalabras5LetrasVocal = perm(9, 4) * 5\n",
    "probabilidadTerminaEnVocal = numeroPalabras5LetrasVocal / numeroPalabras\n",
    "print(\"c)\", probabilidadTerminaEnVocal)"
   ]
  },
  {
   "cell_type": "markdown",
   "id": "1855293c-170e-4f4d-a40a-513365f823b8",
   "metadata": {},
   "source": [
    "## Ejercicio 11  \n",
    "*Parque vehicular.* La Ciudad de México tiene placas de automóviles con tres números seguidos por tres letras, es decir, son placas del tipo 999-AAA. Sin embargo, no pueden empezar con 0 (cero) ni se utilizan las letras I, O, Q y Ñ.  \n",
    "**a)** ¿Cuántas placas diferentes son posibles?  \n",
    "**b)** ¿Cuántas placas diferentes terminan en vocal?  \n",
    "**c)** ¿Cuál es la probabilidad de que una placa, elegida al azar, sea impar?  "
   ]
  },
  {
   "cell_type": "code",
   "execution_count": 4,
   "id": "4db1d916-73ed-481c-9aaa-ee63cc68ae19",
   "metadata": {},
   "outputs": [
    {
     "name": "stdout",
     "output_type": "stream",
     "text": [
      "a) 10950300\n",
      "b) 1428300\n",
      "c) 0.5\n"
     ]
    }
   ],
   "source": [
    "letrasAbecedario = 27\n",
    "letrasExcluidas = 4\n",
    "letras = letrasAbecedario - letrasExcluidas\n",
    "\n",
    "#### a) #### \n",
    "numerosPosibles = 9 * 10 * 10\n",
    "letrasPosibles = letras * letras * letras\n",
    "placasPosibles = numerosPosibles * letrasPosibles\n",
    "print(\"a)\", placasPosibles)\n",
    "\n",
    "#### b) #### \n",
    "# Solo quedan 3 vocales A, E, U\n",
    "letrasPosibles = letras * letras * 3\n",
    "placasPosiblesVocal = numerosPosibles * letrasPosibles\n",
    "print(\"b)\", placasPosiblesVocal)\n",
    "\n",
    "#### c) ####\n",
    "# Hay 5 numeros pares [0, 2, 3, 4, 5] y 5 impares [1, 3, 5, 7, 9]\n",
    "# Mientras la placa termine en un numero impar toda la placa es impar, pero no inician con 0\n",
    "numerosPosiblesImpares = 9 * 10 * 5\n",
    "probabilidadImpar = numerosPosiblesImpares / numerosPosibles\n",
    "print(\"c)\", probabilidadImpar)"
   ]
  },
  {
   "cell_type": "markdown",
   "id": "2d4ea649-5bce-43d1-ac8c-e4fc16906b33",
   "metadata": {},
   "source": [
    "## Ejercicio 12  \n",
    "*Servicios restauranteros.* Una cadena de hamburguesas anuncia que se ofrecen 512 maneras de pedir una hamburguesa. Un cliente puede elegir cualquiera de estos ingredientes: cátsup, mostaza, mayonesa, aderezo de la casa, cebolla, pepinillos, jitomate, tocino y lechuga.  \n",
    "¿Crees que lo que afirma la empresa sea cierto? Justifica tu respuesta."
   ]
  },
  {
   "cell_type": "code",
   "execution_count": 5,
   "id": "45963dee-bc05-4709-a2ca-6d448882c07c",
   "metadata": {},
   "outputs": [
    {
     "name": "stdout",
     "output_type": "stream",
     "text": [
      "La afirmación es cierta, el número total de formas posibles es: 512\n"
     ]
    }
   ],
   "source": [
    "afirmacion = 512\n",
    "# Hay 9 ingredientes, no se repiten ingredientes, y puede elejir de 0 a 9 ingredientes (al menos 0)\n",
    "comprobacion = comb(9, 9) + comb(9, 8) + comb(9, 7) + comb(9, 6) + comb(9, 5) + comb(9, 4) + comb(9, 3) + comb(9, 2) + comb(9, 1) + comb(9, 0)\n",
    "if afirmacion == comprobacion:\n",
    "    print(\"La afirmación es cierta, el número total de formas posibles es:\", comprobacion)\n",
    "else:\n",
    "    print(\"La afirmación no es cierta, el número de formas posibles es:\", comprobacion)"
   ]
  },
  {
   "cell_type": "markdown",
   "id": "cdb7cf0a-ffb7-41e8-9a2c-1f2d7c0f3945",
   "metadata": {},
   "source": [
    "## Ejercicio 13\n",
    "*Cultura.* Una persona tiene un libro de cada uno de los autores siguientes: Mario Vargas Llosa, Alberto Ruy Sánchez, Gabriel García Márquez, Günther Grass, Patrick Süskind, Heinrich Böll, Arturo Pérez-Reverte y Camilo José Cela. Como aún no los ha leído, quiere ponerlos en una repisa cerca de su cama. De acuerdo con esto, determina:  \n",
    "**a)** ¿De cuántas formas puede acomodar los libros sobre la repisa?  \n",
    "**b)** ¿De cuántas maneras puede ordenarlos si quiere que los libros de autores latinoamericanos estén juntos?  \n",
    "**c)** ¿De cuántas formas puede acomodarlos, si los autores latinoamericanos deben estar juntos, así como los autores alemanes y los españoles también?  \n",
    "**d)** Determina las probabilidades correspondientes a los incisos (b) y (c).  "
   ]
  },
  {
   "cell_type": "code",
   "execution_count": 6,
   "id": "c8fbb86f-dfa7-4afc-8c04-19712fc5be0a",
   "metadata": {},
   "outputs": [
    {
     "name": "stdout",
     "output_type": "stream",
     "text": [
      "a) 40320\n",
      "b) 4320\n",
      "c) 432\n",
      "d) Probabilidad inciso (b): 0.10714285714285714\n",
      "   Probabilidad inciso (c): 0.010714285714285714\n"
     ]
    }
   ],
   "source": [
    "#### a) ####\n",
    "formasTotalesAcomodar = factorial(8)\n",
    "print(\"a)\", formasTotalesAcomodar)\n",
    "\n",
    "#### b) ####\n",
    "# 3 autores son latinos, como deben de estar juntos los tomamos como un elemento\n",
    "formasTotalesAcomodarLatinos = factorial(6) * factorial(3)\n",
    "print(\"b)\", formasTotalesAcomodarLatinos)\n",
    "\n",
    "#### c) ####\n",
    "# 3 autores son latinos, 2 son españoles y 3 son alemanes\n",
    "formasTotalesAcomodarLaEsAl = (factorial(3) * factorial(2) * factorial(3)) * factorial(3)\n",
    "print(\"c)\", formasTotalesAcomodarLaEsAl)\n",
    "\n",
    "#### d) ####\n",
    "probabilidadB = formasTotalesAcomodarLatinos / formasTotalesAcomodar\n",
    "probabilidadC = formasTotalesAcomodarLaEsAl / formasTotalesAcomodar\n",
    "print(\"d) Probabilidad inciso (b):\", probabilidadB)\n",
    "print(\"   Probabilidad inciso (c):\", probabilidadC)"
   ]
  },
  {
   "cell_type": "markdown",
   "id": "0ef08fa5-079e-4779-a213-5ba8a5b2c374",
   "metadata": {},
   "source": [
    "## Ejercicio 14  \n",
    "*Finanzas.* Se va a formar un portafolio de inversión de cuatro instrumentos financieros a partir de cinco de renta fija y seis de renta variable. ¿De cuántas maneras podría formarse el portafolio si:  \n",
    "**a)** No hay restricciones?  \n",
    "**b)** Debe haber dos instrumentos de renta fija y dos de renta variable?  \n",
    "**c)** No debe haber ningún instrumento de renta fija?  \n",
    "**d)** Debe haber tres instrumentos de renta fija?  \n",
    "**e)** Calcula las probabilidades para los incisos anteriores.  "
   ]
  },
  {
   "cell_type": "code",
   "execution_count": 7,
   "id": "958e9c33-f24b-4c24-ace8-2461ac403460",
   "metadata": {},
   "outputs": [
    {
     "name": "stdout",
     "output_type": "stream",
     "text": [
      "a) 330\n",
      "b) 150\n",
      "c) 15\n",
      "d) 60\n",
      "e) Probabilidad inciso (a): 1.0\n",
      "   Probabilidad inciso (b): 0.45454545454545453\n",
      "   Probabilidad inciso (c): 0.045454545454545456\n",
      "   Probabilidad inciso (d): 0.18181818181818182\n"
     ]
    }
   ],
   "source": [
    "#### a) ####\n",
    "formasPortaforlioTotales = comb(11, 4)\n",
    "print(\"a)\", formasPortaforlioTotales)\n",
    "\n",
    "#### b) ####\n",
    "formasPortaforlio2RF2RV = comb(5, 2) * comb(6, 2)\n",
    "print(\"b)\", formasPortaforlio2RF2RV)\n",
    "\n",
    "#### c) ####\n",
    "formasPortaforlioNoRF = comb(5, 0) * comb(6, 4)\n",
    "print(\"c)\", formasPortaforlioNoRF)\n",
    "\n",
    "#### d) ####\n",
    "formasPortaforlio3RF =  comb(5, 3) * comb(6, 1)\n",
    "print(\"d)\", formasPortaforlio3RF)\n",
    "\n",
    "#### e) ####\n",
    "probabilidadEA = formasPortaforlioTotales / formasPortaforlioTotales\n",
    "probabilidadEB = formasPortaforlio2RF2RV / formasPortaforlioTotales\n",
    "probabilidadEC = formasPortaforlioNoRF / formasPortaforlioTotales\n",
    "probabilidadED = formasPortaforlio3RF / formasPortaforlioTotales\n",
    "print(\"e) Probabilidad inciso (a):\", probabilidadEA)\n",
    "print(\"   Probabilidad inciso (b):\", probabilidadEB)\n",
    "print(\"   Probabilidad inciso (c):\", probabilidadEC)\n",
    "print(\"   Probabilidad inciso (d):\", probabilidadED)"
   ]
  },
  {
   "cell_type": "markdown",
   "id": "cb264e38-da77-4398-83f2-93f398d08e4c",
   "metadata": {},
   "source": [
    "## Ejercicio 15  \n",
    "*Futbol.* Tres parejas (tres hombres y tres mujeres) compran boletos para ir a un partido de los Pumas. Cuando llegan al estadio de Ciudad Universitaria les surge la duda de cómo sentarse en  la fila. ¿De cuántas maneras pueden hacerlo si:  \n",
    "**a)** No hay restricciones?  \n",
    "**b)** Los hombres deben sentarse juntos?  \n",
    "**c)** Deben sentarse por parejas?   \n",
    "**d)** ¿Cuál es la probabilidad de cada uno de los eventos descritos en los incisos anteriores?  "
   ]
  },
  {
   "cell_type": "code",
   "execution_count": 8,
   "id": "9332f8cd-60fe-4228-9807-75f51b6fd6fb",
   "metadata": {},
   "outputs": [
    {
     "name": "stdout",
     "output_type": "stream",
     "text": [
      "a) 720\n",
      "b) 144\n",
      "c) 48\n",
      "d) Probabilidad inciso (a): 1.0\n",
      "   Probabilidad inciso (b): 0.2\n",
      "   Probabilidad inciso (c): 0.06666666666666667\n"
     ]
    }
   ],
   "source": [
    "#### a) ####\n",
    "formasTotales = factorial(6)\n",
    "print(\"a)\", formasTotales)\n",
    "\n",
    "#### b) ####\n",
    "formasHomJuntos = factorial(4) * factorial(3)\n",
    "print(\"b)\", formasHomJuntos)\n",
    "\n",
    "#### c) ####\n",
    "formasParejas = (factorial(2) * factorial(2) * factorial(2)) * factorial(3)\n",
    "print(\"c)\", formasParejas)\n",
    "\n",
    "#### d) ####\n",
    "probabilidadDA = formasTotales / formasTotales\n",
    "probabilidadDB = formasHomJuntos / formasTotales\n",
    "probabilidadDC = formasParejas / formasTotales\n",
    "print(\"d) Probabilidad inciso (a):\", probabilidadDA)\n",
    "print(\"   Probabilidad inciso (b):\", probabilidadDB)\n",
    "print(\"   Probabilidad inciso (c):\", probabilidadDC)"
   ]
  },
  {
   "cell_type": "markdown",
   "id": "bbc8eb2f-dc50-4266-b7bf-ae07445d4ddc",
   "metadata": {},
   "source": [
    "## Ejercicio 16  \n",
    "*Trabajo en equipo.* En un grupo de 25 alumnos hay 13 chicas y 12 chicos. Se desean formar equipos de trabajo para realizar una investigación:  \n",
    "**a)** ¿Cuántos equipos de cinco personas pueden formarse?  \n",
    "**b)** ¿Cuántos equipos pueden formarse si debe haber una chica?  \n",
    "**c)** ¿Cuántos equipos pueden formarse si debe haber dos chicas?  \n",
    "**d)** Determina las probabilidades correspondientes a los incisos anteriores."
   ]
  },
  {
   "cell_type": "code",
   "execution_count": 9,
   "id": "2afa28ae-c7b8-45d6-a038-39f019670ca5",
   "metadata": {},
   "outputs": [
    {
     "name": "stdout",
     "output_type": "stream",
     "text": [
      "a) 53130\n",
      "b) 6435\n",
      "b) 17160\n",
      "d) Probabilidad inciso (a): 1.0\n",
      "   Probabilidad inciso (b): 0.12111801242236025\n",
      "   Probabilidad inciso (c): 0.32298136645962733\n"
     ]
    }
   ],
   "source": [
    "#### a) ####\n",
    "equiposCinco = comb(25, 5)\n",
    "print(\"a)\", equiposCinco)\n",
    "\n",
    "#### b) ####\n",
    "equiposCincoUnaChica = comb(12, 4) * comb(13, 1)\n",
    "print(\"b)\", equiposCincoUnaChica)\n",
    "\n",
    "#### c) ####\n",
    "equiposCincoDosChicas = comb(12, 3) * comb(13, 2)\n",
    "print(\"b)\", equiposCincoDosChicas)\n",
    "\n",
    "\n",
    "#### d) ####\n",
    "probabilidadEqA = equiposCinco / equiposCinco\n",
    "probabilidadEqB = equiposCincoUnaChica / equiposCinco\n",
    "probabilidadEqC = equiposCincoDosChicas / equiposCinco\n",
    "print(\"d) Probabilidad inciso (a):\", probabilidadEqA)\n",
    "print(\"   Probabilidad inciso (b):\", probabilidadEqB)\n",
    "print(\"   Probabilidad inciso (c):\", probabilidadEqC)"
   ]
  },
  {
   "cell_type": "markdown",
   "id": "a9e4d617-2521-4dd3-a399-52c918815f41",
   "metadata": {},
   "source": [
    "### Ejercicio  17\n",
    "*Control de calidad.* Se tiene una caja con 24 latas y se sabe que dos están contaminadas. Se van a seleccionar tres latas al azar para someterlas a una prueba de control de calidad, es decir, para medir los estándares de calidad de la empresa.  \n",
    "**a)** ¿Cuántas combinaciones de tres latas pueden hacerse?  \n",
    "**b)** ¿Cuál es la probabilidad de que se seleccione una lata contaminada para la prueba?  \n",
    "**c)** ¿Cuál es la probabilidad de que se seleccione al menos una lata contaminada para la prueba?  \n",
    "**d)** ¿Y la probabilidad de que no se elijan latas contaminadas para la prueba?  "
   ]
  },
  {
   "cell_type": "code",
   "execution_count": 10,
   "id": "ad8177bc-08c6-4739-88b8-ef4368ee94b3",
   "metadata": {},
   "outputs": [
    {
     "name": "stdout",
     "output_type": "stream",
     "text": [
      "a) 2024\n",
      "b) 0.22826086956521738\n",
      "c) 0.23913043478260868\n",
      "d) 0.7608695652173914\n"
     ]
    }
   ],
   "source": [
    "#### a) ####\n",
    "combinacionesTotales = comb(24, 3)\n",
    "print(\"a)\", combinacionesTotales)\n",
    "\n",
    "#### b) ####\n",
    "combinacionesUnaLataContam = comb(22, 2) * comb(2, 1)\n",
    "probabilidadLataContam = combinacionesUnaLataContam / combinacionesTotales\n",
    "print(\"b)\", probabilidadLataContam)\n",
    "\n",
    "#### c) ####\n",
    "combinacionesDosLataContam = comb(22, 1) * comb(2, 2)\n",
    "probabilidadDosLatasContam = combinacionesDosLataContam / combinacionesTotales\n",
    "probabilidadAlMenosUnaLataContam = probabilidadLataContam + probabilidadDosLatasContam\n",
    "print(\"c)\", probabilidadAlMenosUnaLataContam)\n",
    "\n",
    "#### d) ####\n",
    "combinacionesLatasNoContam = comb(22, 3) * comb(2, 0)\n",
    "probabilidadLatasNoContam = combinacionesLatasNoContam / combinacionesTotales\n",
    "print(\"d)\", probabilidadLatasNoContam)"
   ]
  }
 ],
 "metadata": {
  "kernelspec": {
   "display_name": "Python 3 (ipykernel)",
   "language": "python",
   "name": "python3"
  },
  "language_info": {
   "codemirror_mode": {
    "name": "ipython",
    "version": 3
   },
   "file_extension": ".py",
   "mimetype": "text/x-python",
   "name": "python",
   "nbconvert_exporter": "python",
   "pygments_lexer": "ipython3",
   "version": "3.11.4"
  }
 },
 "nbformat": 4,
 "nbformat_minor": 5
}
