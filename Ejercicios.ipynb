{
 "cells": [
  {
   "cell_type": "markdown",
   "id": "0824d640-c7db-4e3a-ab6e-885409e18fc5",
   "metadata": {},
   "source": [
    "## Ejercicio 15"
   ]
  },
  {
   "cell_type": "markdown",
   "id": "59477840-bf6e-422f-9dcc-d9f84d57867f",
   "metadata": {},
   "source": [
    "Futbol. Tres parejas (tres hombres y tres mujeres) compran boletos para ir a un partido de los Pumas. \n",
    "Cuando llegan al estadio de Ciudad Universitaria les surge la duda de cómo sentarse en la fila. \n",
    "¿De cuántas maneras pueden hacerlo si:  \n",
    "a) No hay restricciones?  \n",
    "b) Los hombres deben sentarse juntos?  \n",
    "c) Deben sentarse por parejas?  \n",
    "d) ¿Cuál es la probabilidad de cada uno de los eventos descritos en los incisos anteriores?  "
   ]
  },
  {
   "cell_type": "code",
   "execution_count": 11,
   "id": "ec561c47-7141-4f79-88f9-5df1671377c8",
   "metadata": {},
   "outputs": [
    {
     "name": "stdout",
     "output_type": "stream",
     "text": [
      "a) 720\n",
      "b) 144\n",
      "c) 12\n",
      "d) 1.0\n",
      "d) 0.2\n",
      "d) 0.016666666666666666\n"
     ]
    }
   ],
   "source": [
    "import math\n",
    "##### a)\n",
    "ejeA = math.factorial(6)\n",
    "print(\"a)\",ejeA)\n",
    "\n",
    "##### b)\n",
    "ejeB = math.factorial(4) * math.factorial(3)\n",
    "print(\"b)\",ejeB)\n",
    "\n",
    "##### c)\n",
    "ejeC = math.factorial(3) * 2\n",
    "print(\"c)\",ejeC)\n",
    "\n",
    "##### d)\n",
    "ejeDA = ejeA / math.factorial(6)\n",
    "ejeDB = ejeB / math.factorial(6)\n",
    "ejeDC = ejeC / math.factorial(6)\n",
    "print(\"d)\",ejeDA)\n",
    "print(\"d)\",ejeDB)\n",
    "print(\"d)\",ejeDC)"
   ]
  },
  {
   "cell_type": "markdown",
   "id": "03a0cf7c-0b7f-4f70-b51e-7156776040b9",
   "metadata": {},
   "source": [
    "## Ejercicio 16"
   ]
  },
  {
   "cell_type": "markdown",
   "id": "9c93b63e-9680-4c25-9ac0-b20c21476093",
   "metadata": {},
   "source": [
    "Trabajo en equipo. En un grupo de 25 alumnos hay 13 chicas y 12 chicos. Se desean formar equipos de trabajo para realizar una investigación:  \n",
    "a) ¿Cuántos equipos de cinco personas pueden formarse?  \n",
    "b) ¿Cuántos equipos pueden formarse si debe haber una chica?  \n",
    "c) ¿Cuántos equipos pueden formarse si debe haber dos chicas?  \n",
    "d) Determina las probabilidades correspondientes a los incisos anteriores.  "
   ]
  },
  {
   "cell_type": "code",
   "execution_count": 12,
   "id": "f2b0592e-686f-45f2-a890-2fc142d3e2f2",
   "metadata": {},
   "outputs": [
    {
     "name": "stdout",
     "output_type": "stream",
     "text": [
      "a) 53130\n",
      "b) 6435\n",
      "c) 17160\n",
      "d) 1.0\n",
      "d) 0.12111801242236025\n",
      "d) 0.32298136645962733\n"
     ]
    }
   ],
   "source": [
    "def permutaciones(n, r):\n",
    "    return math.factorial(n) // math.factorial(n - r)\n",
    "    \n",
    "def combinaciones(n, r):\n",
    "    return math.factorial(n) // (math.factorial(r) * math.factorial(n - r))\n",
    "\n",
    "    \n",
    "##### a)\n",
    "n = 25\n",
    "k = 5\n",
    "ejeA = combinaciones(n, k)\n",
    "print(\"a)\",ejeA)\n",
    "\n",
    "##### b)\n",
    "ejeB = combinaciones(13, 1) * combinaciones(12, 4)\n",
    "print(\"b)\",ejeB)\n",
    "\n",
    "##### c)\n",
    "ejeC = combinaciones(13, 2) * combinaciones(12, 3)\n",
    "print(\"c)\",ejeC)\n",
    "\n",
    "##### d)\n",
    "ejeDA = ejeA / ejeA\n",
    "ejeDB = ejeB / ejeA\n",
    "ejeDC = ejeC / ejeA\n",
    "print(\"d)\",ejeDA)\n",
    "print(\"d)\",ejeDB)\n",
    "print(\"d)\",ejeDC)"
   ]
  },
  {
   "cell_type": "markdown",
   "id": "f762ae9f-1ea8-4193-af9b-c419a84ccf54",
   "metadata": {},
   "source": [
    "## Ejercicio 17"
   ]
  },
  {
   "cell_type": "markdown",
   "id": "2f06106d-44ec-44af-8abf-6f95b8426684",
   "metadata": {},
   "source": [
    "Control de calidad. Se tiene una caja con 24 latas y se sabe que dos están contaminadas. Se van a seleccionar tres latas al azar para someterlas a una prueba de control de calidad, es decir, para medir los estándares de calidad de la empresa.  \n",
    "a) ¿Cuántas combinaciones de tres latas pueden hacerse?  \n",
    "b) ¿Cuál es la probabilidad de que se seleccione una lata contaminada para la prueba?  \n",
    "c) ¿Cuál es la probabilidad de que se seleccione al menos una lata contaminada para la prueba?  \n",
    "d) ¿Y la probabilidad de que no se elijan latas contaminadas para la prueba?  "
   ]
  },
  {
   "cell_type": "code",
   "execution_count": 25,
   "id": "4b042d07-4157-4d2c-b31c-4669b61b58d8",
   "metadata": {},
   "outputs": [
    {
     "name": "stdout",
     "output_type": "stream",
     "text": [
      "a) 2024\n",
      "b) 0.22826086956521738\n",
      "d) 0.010869565217391304\n",
      "d) 0.7608695652173914\n"
     ]
    }
   ],
   "source": [
    "def permutaciones(n, r):\n",
    "    return math.factorial(n) // math.factorial(n - r)\n",
    "    \n",
    "def combinaciones(n, r):\n",
    "    return math.factorial(n) // (math.factorial(r) * math.factorial(n - r))\n",
    "\n",
    "    \n",
    "##### a)\n",
    "n = 24\n",
    "k = 3\n",
    "ejeA = combinaciones(n, k)\n",
    "print(\"a)\",ejeA)\n",
    "\n",
    "##### b)\n",
    "n = 24\n",
    "k = 3\n",
    "ejeB = combinaciones(22, 2) * combinaciones(2, 1)\n",
    "probB = ejeB / ejeA\n",
    "print(\"b)\",probB)\n",
    "\n",
    "\n",
    "##### c)\n",
    "n = 24\n",
    "k = 3\n",
    "ejeC = combinaciones(22, 1) * combinaciones(2, 2)\n",
    "probC = ejeC / ejeA\n",
    "print(\"d)\",probC)\n",
    "\n",
    "##### d)\n",
    "n = 24\n",
    "k = 3\n",
    "ejeC = combinaciones(22, 3) * combinaciones(2, 0)\n",
    "probC = ejeC / ejeA\n",
    "print(\"d)\",probC)"
   ]
  }
 ],
 "metadata": {
  "kernelspec": {
   "display_name": "Python 3 (ipykernel)",
   "language": "python",
   "name": "python3"
  },
  "language_info": {
   "codemirror_mode": {
    "name": "ipython",
    "version": 3
   },
   "file_extension": ".py",
   "mimetype": "text/x-python",
   "name": "python",
   "nbconvert_exporter": "python",
   "pygments_lexer": "ipython3",
   "version": "3.11.4"
  }
 },
 "nbformat": 4,
 "nbformat_minor": 5
}
